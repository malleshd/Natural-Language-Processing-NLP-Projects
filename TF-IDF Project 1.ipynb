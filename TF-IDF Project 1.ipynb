{
 "cells": [
  {
   "cell_type": "markdown",
   "metadata": {},
   "source": [
    "## TF-IDF Project"
   ]
  },
  {
   "cell_type": "code",
   "execution_count": 1,
   "metadata": {},
   "outputs": [],
   "source": [
    "import nltk\n",
    "import math"
   ]
  },
  {
   "cell_type": "markdown",
   "metadata": {},
   "source": [
    "### Load Data"
   ]
  },
  {
   "cell_type": "code",
   "execution_count": 2,
   "metadata": {},
   "outputs": [],
   "source": [
    "dataset = {\n",
    "    \"tfidf-1.txt\":open(\"tfidf-1.txt\", encoding=\"utf8\").read(),\n",
    "    \"tfidf-2.txt\":open(\"tfidf-2.txt\", encoding=\"utf8\").read(),\n",
    "    \"tfidf-3.txt\":open(\"tfidf-3.txt\", encoding=\"utf8\").read(),\n",
    "    \"tfidf-4.txt\":open(\"tfidf-4.txt\", encoding=\"utf8\").read(),\n",
    "    \"tfidf-5.txt\":open(\"tfidf-5.txt\", encoding=\"utf8\").read(),\n",
    "    \"tfidf-6.txt\":open(\"tfidf-6.txt\", encoding=\"utf8\").read(),\n",
    "    \"tfidf-7.txt\":open(\"tfidf-7.txt\", encoding=\"utf8\").read(),\n",
    "    \"tfidf-8.txt\":open(\"tfidf-8.txt\", encoding=\"utf8\").read(),\n",
    "    \"tfidf-9.txt\":open(\"tfidf-9.txt\", encoding=\"utf8\").read(),\n",
    "    \"tfidf-10.txt\":open(\"tfidf-10.txt\", encoding=\"utf8\").read()\n",
    "}"
   ]
  },
  {
   "cell_type": "code",
   "execution_count": 3,
   "metadata": {},
   "outputs": [
    {
     "data": {
      "text/plain": [
       "{'tfidf-1.txt': 'World War II (WWII or WW2), also known as the Second World War, was a global war that lasted from 1939 to 1945, though related conflicts began earlier. It involved the vast majority of the world\\'s nations—including all of the great powers—eventually forming two opposing military alliances: the Allies and the Axis. It was the most widespread war in history, and directly involved more than 100 million people from over 30 countries. In a state of \"total war\", the major participants threw their entire economic, industrial, and scientific capabilities behind the war effort, erasing the distinction between civilian and military resources. Marked by mass deaths of civilians, including the Holocaust (in which approximately 11 million people were killed) and the strategic bombing of industrial and population centres (in which approximately one million were killed, and which included the atomic bombings of Hiroshima and Nagasaki), it resulted in an estimated 50 million to 85 million fatalities. These made World War II the deadliest conflict in human history.\\n\\nThe Empire of Japan aimed to dominate Asia and the Pacific and was already at war with the Republic of China in 1937, but the world war is generally said to have begun on 1 September 1939 with the invasion of Poland by Germany and subsequent declarations of war on Germany by France and the United Kingdom. From late 1939 to early 1941, in a series of campaigns and treaties, Germany conquered or controlled much of continental Europe, and formed the Axis alliance with Italy and Japan. Based on the Molotov–Ribbentrop Pact of August 1939, Germany and the Soviet Union partitioned and annexed territories of their European neighbours, Poland, Finland, Romania and the Baltic states. For a year starting in late June 1940, the United Kingdom and the British Commonwealth were the only Allied forces continuing the fight against the European Axis powers, with campaigns in North Africa and the Horn of Africa, the aerial Battle of Britain and the Blitz bombing campaign, as well as the long-running Battle of the Atlantic. In June 1941, the European Axis powers launched an invasion of the Soviet Union, opening the largest land theatre of war in history, which trapped the major part of the Axis\\' military forces into a war of attrition. In December 1941, Japan attacked the United States and European territories in the Pacific Ocean, and quickly conquered much of the Western Pacific.\\n\\nThe Axis advance halted in 1942 when Japan lost the critical Battle of Midway, near Hawaii, and Germany was defeated in North Africa and then, decisively, at Stalingrad in the Soviet Union. In 1943, with a series of German defeats on the Eastern Front, the Allied invasion of Italy which brought about Italian surrender, and Allied victories in the Pacific, the Axis lost the initiative and undertook strategic retreat on all fronts. In 1944, the Western Allies invaded German-occupied France, while the Soviet Union regained all of its territorial losses and invaded Germany and its allies. During 1944 and 1945 the Japanese suffered major reverses in mainland Asia in South Central China and Burma, while the Allies crippled the Japanese Navy and captured key Western Pacific islands.\\n\\nThe war in Europe ended with an invasion of Germany by the Western Allies and the Soviet Union culminating in the capture of Berlin by Soviet and Polish troops and the subsequent German unconditional surrender on 8 May 1945. Following the Potsdam Declaration by the Allies on 26 July 1945 and the refusal of Japan to surrender under its terms, the United States dropped atomic bombs on the Japanese cities of Hiroshima and Nagasaki on 6 August and 9 August respectively. With an invasion of the Japanese archipelago imminent, the possibility of additional atomic bombings, and the Soviet Union\\'s declaration of war on Japan and invasion of Manchuria, Japan surrendered on 15 August 1945. Thus ended the war in Asia, cementing the total victory of the Allies.\\n\\nWorld War II altered the political alignment and social structure of the world. The United Nations (UN) was established to foster international co-operation and prevent future conflicts. The victorious great powers—the United States, the Soviet Union, China, the United Kingdom, and France—became the permanent members of the United Nations Security Council. The Soviet Union and the United States emerged as rival superpowers, setting the stage for the Cold War, which lasted for the next 46 years. Meanwhile, the influence of European great powers waned, while the decolonisation of Asia and Africa began. Most countries whose industries had been damaged moved towards economic recovery. Political integration, especially in Europe, emerged as an effort to end pre-war enmities and to create a common identity.',\n",
       " 'tfidf-2.txt': 'Apollo 11 was the spaceflight that landed the first humans on the Moon, Americans Neil Armstrong and Buzz Aldrin, on July 20, 1969, at 20:18 UTC. Armstrong became the first to step onto the lunar surface six hours later on July 21 at 02:56 UTC. Armstrong spent about two and a half hours outside the spacecraft, Aldrin slightly less, and together they collected 47.5 pounds (21.5 kg) of lunar material for return to Earth. The third member of the mission, Michael Collins, piloted the command spacecraft alone in lunar orbit until Armstrong and Aldrin returned to it just under a day later for the trip back to Earth.\\n\\nLaunched by a Saturn V rocket from Kennedy Space Center in Merritt Island, Florida, on July 16, Apollo 11 was the fifth manned mission of NASA\\'s Apollo program. The Apollo spacecraft had three parts: a Command Module (CM) with a cabin for the three astronauts, and the only part that landed back on Earth; a Service Module (SM), which supported the Command Module with propulsion, electrical power, oxygen, and water; and a Lunar Module (LM) for landing on the Moon (which itself was composed of two parts). After being sent toward the Moon by the Saturn V\\'s upper stage, the astronauts separated the spacecraft from it and traveled for three days until they entered into lunar orbit. Armstrong and Aldrin then moved into the Lunar Module and landed in the Sea of Tranquility. They stayed a total of about 21 1⁄2 hours on the lunar surface. After lifting off in the upper part of the Lunar Module and rejoining Collins in the Command Module, they returned to Earth and landed in the Pacific Ocean on July 24.\\n\\nBroadcast on live TV to a world-wide audience, Armstrong stepped onto the lunar surface and described the event as \"one small step for [a] man, one giant leap for mankind.\" Apollo 11 effectively ended the Space Race and fulfilled a national goal proposed in 1961 by the U.S. President John F. Kennedy in a speech before the U.S. Congress: \"before this decade is out, of landing a man on the Moon and returning him safely to the Earth.\"',\n",
       " 'tfidf-3.txt': \"Napoleon Bonaparte, born Napoleone di Buonaparte; 15 August 1769 – 5 May 1821) was a French military and political leader who rose to prominence during the French Revolution and led several successful campaigns during the Revolutionary Wars. As Napoleon I, he was Emperor of the French from 1804 until 1814, and again in 1815. Napoleon dominated European affairs for over a decade while leading France against a series of coalitions in the Napoleonic Wars. He won most of these wars and the vast majority of his battles, rapidly gaining control of continental Europe before his ultimate defeat in 1815. One of the greatest commanders in history, his campaigns are studied at military schools worldwide and he remains one of the most celebrated and controversial political figures in Western history. In civil affairs, Napoleon had a major long-term impact by bringing liberal reforms to the countries that he conquered, especially the Low Countries, Switzerland, Italy, and large parts of Germany. He implemented fundamental liberal policies in France and throughout Western Europe. His lasting legal achievement was the Napoleonic Code, which has been adopted in various forms by a quarter of the world's legal systems, from Japan to Quebec.\\n\\nNapoleon was born in Corsica to a relatively modest family of noble Tuscan ancestry. Serving in the French army, Napoleon supported the Revolution from the outset in 1789 and tried to spread its ideals to Corsica, but was banished from the island in 1793. Two years later, he saved the French government from collapse by firing on the Parisian mobs with cannons. After the Directory rewarded Napoleon by giving him command of Army of Italy at age 26, he began his first military campaign against the Austrians and their Italian allies, scoring a series of decisive victories that made him famous all across Europe. He followed the defeat of the Allies in Europe by commanding a military expedition to Egypt in 1798, conquering the Ottoman province after defeating the Mamelukes and launching modern Egyptology through the discoveries made by his army.\\n\\nAfter returning from Egypt, Napoleon engineered a coup in November 1799 and became First Consul of the Republic. With the Concordat of 1801, Napoleon restored the religious powers of the Catholic Church but kept the lands seized by the Revolution. The state nominated the bishops and controlled church finances. He extended his political control over France until the Senate declared him Emperor of the French in 1804, launching the French Empire. Intractable differences with the British meant that the French were facing a Third Coalition by 1805. Napoleon shattered this coalition with decisive victories in the Ulm Campaign and a historic triumph at the Battle of Austerlitz, which led to the elimination of the Holy Roman Empire. In October 1805, however, a Franco-Spanish fleet was destroyed at the Battle of Trafalgar, allowing Britain to impose a naval blockade of the French coasts. In retaliation, Napoleon established the Continental System in 1806 to cut off European trade with Britain. The Fourth Coalition took up arms against him the same year because Prussia became worried about growing French influence on the continent. After quickly knocking out Prussia at the battles of Jena and Auerstedt, Napoleon turned his attention towards the Russians and annihilated them in 1807 at Friedland, which forced the Russians to accept the Treaties of Tilsit, the high water mark of the French Empire.\\n\\nHoping to extend the Continental System, Napoleon invaded Iberia and declared his brother Joseph the King of Spain in 1808. The Spanish and the Portuguese revolted with British support. The Peninsular War, noted for its brutal guerrilla warfare, lasted six years and culminated in an Allied victory. Fighting also erupted in Central Europe, as the Austrians launched another attack against the French in 1809. Napoleon defeated them at the Battle of Wagram, dissolving the Fifth Coalition formed against France. By 1811, Napoleon ruled over 70 million people across an empire that had domination in Europe, which had not witnessed this level of political consolidation since the days of the Roman Empire. He maintained his strategic status through a series of alliances and family appointments. He created a new aristocracy in France while allowing the return of nobles who had been forced into exile by the Revolution.\\n\\nTensions over rising Polish nationalism and the economic effects of the Continental System led to renewed confrontation with Russia. To enforce his blockade, Napoleon launched an invasion of Russia in 1812 that ended in catastrophic failure for the French. In 1813, Prussia and Austria joined Russian forces in a Sixth Coalition against France. A chaotic military campaign eventually culminated in a large Allied army defeating Napoleon at the Battle of Leipzig in October. The next year, the Allies invaded France and captured Paris, forcing Napoleon to abdicate in April 1814. He was exiled to the island of Elba. The Bourbons were restored to power and the French lost most of the territories that they had conquered since the Revolution. However, Napoleon escaped from Elba in February 1815 and took control of the government once again. The Allies formed a Seventh Coalition, which ultimately defeated Napoleon at the Battle of Waterloo in June. He was then captured by the British and imprisoned on the remote island of Saint Helena. His death in 1821 at the age of 51 was received by shock and grief throughout Europe. In 1840, a million people witnessed his remains returning to Paris, where they still reside at Les Invalides.\",\n",
       " 'tfidf-4.txt': 'George Washington (February 22, 1732 – December 14, 1799) was the first President of the United States (1789–97), the Commander-in-Chief of the Continental Army during the American Revolutionary War, and one of the Founding Fathers of the United States. He presided over the convention that drafted the current United States Constitution and during his lifetime was called the \"father of his country\".\\n\\nWidely admired for his strong leadership qualities, Washington was unanimously elected President in the first two national elections. He oversaw the creation of a strong, well-financed national government that maintained neutrality in the French Revolutionary Wars, suppressed the Whiskey Rebellion, and won acceptance among Americans of all types. Washington\\'s incumbency established many precedents, still in use today, such as the cabinet system, the inaugural address, and the title Mr. President. His retirement from office after two terms established a tradition that lasted until 1940, when Franklin Delano Roosevelt won an unprecedented third term.\\n\\nBorn into the provincial gentry of Colonial Virginia, his family were wealthy planters who owned tobacco plantations and slaves which he inherited; he owned hundreds of slaves throughout his lifetime, but his views on slavery evolved. In his youth he became a senior British officer in the colonial militia during the first stages of the French and Indian War. In 1775, the Second Continental Congress commissioned Washington as commander-in-chief of the Continental Army in the American Revolution. In that command, Washington forced the British out of Boston in 1776, but was defeated and nearly captured later that year when he lost New York City. After crossing the Delaware River in the middle of winter, he defeated the British in two battles, retook New Jersey and restored momentum to the Patriot cause. This is known as the Battle of Trenton.\\n\\nHis strategy enabled Continental forces to capture two major British armies at Saratoga in 1777 and Yorktown in 1781. Historians laud Washington for the selection and supervision of his generals, preservation and command of the army, coordination with the Congress, with state governors and their militia, and attention to supplies, logistics, and training. In battle, however, Washington was repeatedly outmaneuvered by British generals with larger armies. After victory had been finalized in 1783, Washington resigned as commander-in-chief rather than seize power, proving his opposition to dictatorship and his commitment to American republicanism.\\n\\nWashington presided over the Constitutional Convention in 1787, which devised a new form of federal government for the United States. Following unanimous election as President in 1789, he worked to unify rival factions in the fledgling nation. He supported Alexander Hamilton\\'s programs to satisfy all debts, federal and state, established a permanent seat of government, implemented an effective tax system, and created a national bank. In avoiding war with Great Britain, he guaranteed a decade of peace and profitable trade by securing the Jay Treaty in 1795, despite intense opposition from the Jeffersonians. Although he remained nonpartisan, never joining the Federalist Party, he largely supported their policies. Washington\\'s Farewell Address was an influential primer on republican virtue, warning against partisanship, sectionalism, and involvement in foreign wars. He retired from the presidency in 1797, returning to his home and plantation at Mount Vernon.\\n\\nWhile in power, his use of national authority pursued many ends, especially the preservation of liberty, reduction of regional tensions, and promotion of a spirit of American nationalism. Upon his death, Washington was eulogized as \"first in war, first in peace, and first in the hearts of his countrymen\" by Henry Lee. Revered in life and in death, scholarly and public polling consistently ranks him among the top three presidents in American history; he has been depicted and remembered in monuments, currency, and other dedications to the present day.',\n",
       " 'tfidf-5.txt': 'Sir Isaac Newton PRS MP (25 December 1642 – 20 March 1726/7) was an English physicist and mathematician (described in his own day as a \"natural philosopher\") who is widely recognised as one of the most influential scientists of all time and as a key figure in the scientific revolution. His book Philosophiæ Naturalis Principia Mathematica (\"Mathematical Principles of Natural Philosophy\"), first published in 1687, laid the foundations for classical mechanics. Newton made seminal contributions to optics, and he shares credit with Gottfried Leibniz for the development of calculus.\\n\\nNewton\\'s Principia formulated the laws of motion and universal gravitation, which dominated scientists\\' view of the physical universe for the next three centuries. By deriving Kepler\\'s laws of planetary motion from his mathematical description of gravity, and then using the same principles to account for the trajectories of comets, the tides, the precession of the equinoxes, and other phenomena, Newton removed the last doubts about the validity of the heliocentric model of the Solar System. This work also demonstrated that the motion of objects on Earth and of celestial bodies could be described by the same principles. His prediction that Earth should be shaped as an oblate spheroid was later vindicated by the measurements of Maupertuis, La Condamine, and others, which helped convince most Continental European scientists of the superiority of Newtonian mechanics over the earlier system of Descartes.\\n\\nNewton built the first practical reflecting telescope and developed a theory of colour based on the observation that a prism decomposes white light into the many colours of the visible spectrum. He formulated an empirical law of cooling, studied the speed of sound, and introduced the notion of a Newtonian fluid. In addition to his work on calculus, as a mathematician Newton contributed to the study of power series, generalised the binomial theorem to non-integer exponents, developed a method for approximating the roots of a function, and classified most of the cubic plane curves.\\n\\nNewton was a fellow of Trinity College and the second Lucasian Professor of Mathematics at the University of Cambridge. He was a devout but unorthodox Christian and, unusually for a member of the Cambridge faculty of the day, he refused to take holy orders in the Church of England, perhaps because he privately rejected the doctrine of the Trinity. Beyond his work on the mathematical sciences, Newton dedicated much of his time to the study of biblical chronology and alchemy, but most of his work in those areas remained unpublished until long after his death. In his later life, Newton became president of the Royal Society. Newton served the British government as Warden and Master of the Royal Mint.',\n",
       " 'tfidf-6.txt': 'The French Revolution was a period of far-reaching social and political upheaval in France that lasted from 1789 until 1799, and was partially carried forward by Napoleon during the later expansion of the French Empire. The Revolution overthrew the monarchy, established a republic, experienced violent periods of political turmoil, and finally culminated in a dictatorship by Napoleon that rapidly brought many of its principles to Western Europe and beyond. Inspired by liberal and radical ideas, the Revolution profoundly altered the course of modern history, triggering the global decline of absolute monarchies while replacing them with republics. Through the Revolutionary Wars, it unleashed a wave of global conflicts that extended from the Caribbean to the Middle East. Historians widely regard the Revolution as one of the most important events in human history.\\n\\nThe causes of the French Revolution are complex and are still debated among historians. Following the Seven Years\\' War and the American Revolutionary War, the French government was deeply in debt and attempted to restore its financial status through unpopular taxation schemes. Years of bad harvests leading up to the Revolution also inflamed popular resentment of the privileges enjoyed by the clergy and the aristocracy. Demands for change were formulated in terms of Enlightenment ideals and contributed to the convocation of the Estates-General in May 1789. The first year of the Revolution saw members of the Third Estate taking control, the assault on the Bastille in July, the passage of the Declaration of the Rights of Man and of the Citizen in August, and a women\\'s march on Versailles that forced the royal court back to Paris in October. A central event of the first stage, in August 1789, was the abolition of feudalism and the old rules and privileges left over from the Ancien Regime. The next few years featured political struggles between various liberal assemblies and right-wing supporters of the monarchy intent on thwarting major reforms. The Republic was proclaimed in September 1792 after the French victory at Valmy. In a momentous event that led to international condemnation, Louis XVI was executed in January 1793.\\n\\nExternal threats closely shaped the course of the Revolution. The Revolutionary Wars beginning in 1792 ultimately featured French victories that facilitated the conquest of the Italian Peninsula, the Low Countries and most territories west of the Rhine – achievements that had eluded previous French governments for centuries. Internally, popular agitation radicalised the Revolution significantly, culminating in the rise of Maximilien Robespierre and the Jacobins. The dictatorship imposed by the Committee of Public Safety during the Reign of Terror, from 1793 until 1794, established price controls on food and other items, abolished slavery in French colonies abroad, dechristianised society through the creation of a new calendar and the expulsion of religious figures, and secured the borders of the new republic from its enemies. Large numbers of civilians were executed by revolutionary tribunals during the Terror, with estimates ranging from 16,000 to 40,000. After the Thermidorian Reaction, an executive council known as the Directory assumed control of the French state in 1795. The rule of the Directory was characterised by suspended elections, debt repudiations, financial instability, persecutions against the Catholic clergy, and significant military conquests abroad. Dogged by charges of corruption, the Directory collapsed in a coup led by Napoleon Bonaparte in 1799. Napoleon, who became the hero of the Revolution through his popular military campaigns, went on to establish the Consulate and later the First Empire, setting the stage for a wider array of global conflicts in the Napoleonic Wars.\\n\\nThe modern era has unfolded in the shadow of the French Revolution. Almost all future revolutionary movements looked back to the Revolution as their predecessor. Its central phrases and cultural symbols, such as La Marseillaise and Liberte, egalite, fraternite, became the clarion call for other major upheavals in modern history, including the Russian Revolution over a century later. The values and institutions of the Revolution dominate French politics to this day. French historian François Aulard comments that:\\n\\nthe Revolution consisted in the suppression of what was called the feudal system, in the emancipation of the individual, in greater division of landed property, the abolition of the privileges of noble birth, the establishment of equality, the simplification of life.... The French Revolution differed from other revolutions in being not merely national, for it aimed at benefiting all humanity.\"\\nGlobally, the Revolution accelerated the rise of republics and democracies. It became the focal point for the development of all modern political ideologies, leading to the spread of liberalism, radicalism, nationalism, socialism, feminism, and secularism, among many others. The Revolution also witnessed the birth of total war by organizing the resources of France and the lives of its citizens towards the objective of military conquest. Some of its central documents, like the Declaration of the Rights of Man, expanded the arena of human rights to include women and slaves, leading to movements for abolitionism and universal suffrage in the next century.',\n",
       " 'tfidf-7.txt': 'Leonardo di ser Piero da Vinci, more commonly Leonardo da Vinci, 15 April 1452 – 2 May 1519) was an Italian polymath whose areas of interest included invention, painting, sculpting, architecture, science, music, mathematics, engineering, literature, anatomy, geology, astronomy, botany, writing, history, and cartography. He has been variously called the father of paleontology, ichnology, and architecture, and is widely considered one of the greatest painters of all time. Sometimes credited with the inventions of the parachute, helicopter and tank, his genius epitomized the Renaissance humanist ideal.\\n\\nMany historians and scholars regard Leonardo as a great exemplar of the \"Renaissance Man\", an individual of \"unquenchable curiosity\" and \"feverishly inventive imagination\". According to art historian Helen Gardner, the scope and depth of his interests were without precedent in recorded history, \"his mind and personality seem to us superhuman, while the man himself mysterious and remote\". Marco Rosci, however, notes that while there is much speculation regarding his life and personality, his view of the world was logical rather than mysterious, and that the empirical methods he employed were unorthodox for his time.\\n\\nBorn out of wedlock to a notary, Piero da Vinci, and a peasant woman, Caterina, in Vinci in the region of Florence, Leonardo was educated in the studio of the renowned Florentine painter Andrea del Verrocchio. Much of his earlier working life was spent in the service of Ludovico il Moro in Milan. He later worked in Rome, Bologna and Venice, and he spent his last years in France at the home awarded to him by Francis I.\\n\\nLeonardo was, and is, renowned primarily as a painter. Among his works, the Mona Lisa is the most famous and most parodied portrait and The Last Supper the most reproduced religious painting of all time, with their fame approached only by Michelangelo\\'s The Creation of Adam. Leonardo\\'s drawing of the Vitruvian Man is also regarded as a cultural icon, being reproduced on items as varied as the euro coin, textbooks, and T-shirts. Perhaps fifteen of his paintings have survived, the small number because of his constant, and frequently disastrous, experimentation with new techniques. Nevertheless, these few works, together with his notebooks, which contain drawings, scientific diagrams, and his thoughts on the nature of painting, compose a contribution to later generations of artists rivalled only by that of his contemporary, Michelangelo.\\n\\nLeonardo is revered for his technological ingenuity. He conceptualised flying machines, a type of armoured fighting vehicle, concentrated solar power, an adding machine, and the double hull, also outlining a rudimentary theory of plate tectonics. Relatively few of his designs were constructed or were even feasible during his lifetime, but some of his smaller inventions, such as an automated bobbin winder and a machine for testing the tensile strength of wire, entered the world of manufacturing unheralded. He made substantial discoveries in anatomy, civil engineering, optics, and hydrodynamics, but he did not publish his findings and they had no direct influence on later science.\\n\\nToday, Leonardo is widely recognized as one of the most diversely talented individuals ever to have lived.',\n",
       " 'tfidf-8.txt': 'RMS Titanic was a British passenger liner that sank in the North Atlantic Ocean in the early morning of 15 April 1912 after colliding with an iceberg during her maiden voyage from Southampton, UK, to New York City, US. The sinking resulted in the loss of more than 1,500 passengers and crew, making it one of the deadliest commercial peacetime maritime disasters in modern history. The RMS Titanic, the largest ship afloat at the time it entered service, was the second of three Olympic class ocean liners operated by the White Star Line, and was built by the Harland and Wolff shipyard in Belfast with Thomas Andrews as her naval architect. Andrews was among those lost in the sinking. On her maiden voyage, she carried 2,224 passengers and crew.\\n\\nUnder the command of Edward Smith, the ship\\'s passengers included some of the wealthiest people in the world, as well as hundreds of emigrants from Great Britain and Ireland, Scandinavia and elsewhere throughout Europe seeking a new life in North America. A high-power radiotelegraph transmitter was available for sending passenger \"marconigrams\" and for the ship\\'s operational use. Although Titanic had advanced safety features such as watertight compartments and remotely activated watertight doors, there were not enough lifeboats to accommodate all of those aboard due to outdated maritime safety regulations. Titanic only carried enough lifeboats for 1,178 people—slightly more than half of the number on board, and one-third her total capacity.\\n\\nAfter leaving Southampton on 10 April 1912, Titanic called at Cherbourg in France and Queenstown (now Cobh) in Ireland before heading west to New York. On 14 April 1912, four days into the crossing and about 375 miles (600 km) south of Newfoundland, she hit an iceberg at 11:40 p.m. ship\\'s time. The collision caused the ship\\'s hull plates to buckle inwards along her starboard side and opened five of her sixteen watertight compartments to the sea; the ship gradually filled with water. Meanwhile, passengers and some crew members were evacuated in lifeboats, many of which were launched only partly loaded. A disproportionate number of men were left aboard because of a \"women and children first\" protocol followed by some of the officers loading the lifeboats. By 2:20 a.m., she broke apart and foundered, with well over one thousand people still aboard. Just under two hours after Titanic foundered, the Cunard liner RMS Carpathia arrived on the scene of the sinking, where she brought aboard an estimated 705 survivors.\\n\\nThe disaster was greeted with worldwide shock and outrage at the huge loss of life and the regulatory and operational failures that had led to it. Public inquiries in Britain and the United States led to major improvements in maritime safety. One of their most important legacies was the establishment in 1914 of the International Convention for the Safety of Life at Sea (SOLAS), which still governs maritime safety today. Additionally, several new wireless regulations were passed around the world in an effort to learn from the many missteps in wireless communications—which could have saved many more passengers.\\n\\nThe wreck of Titanic remains on the seabed, split in two and gradually disintegrating at a depth of 12,415 feet (3,784 m). Since her discovery in 1985, thousands of artefacts have been recovered and put on display at museums around the world. Titanic has become one of the most famous ships in history, her memory kept alive by numerous books, folk songs, films, exhibits, and memorials.',\n",
       " 'tfidf-9.txt': 'John Davison Rockefeller Sr. (July 8, 1839 – May 23, 1937) was an American business magnate and philanthropist. He was a co-founder of the Standard Oil Company, which dominated the oil industry and was the first great U.S. business trust. Rockefeller revolutionized the petroleum industry, and along with other key contemporary industrialists such as Andrew Carnegie, defined the structure of modern philanthropy. In 1870, he founded Standard Oil Company and actively ran it until he officially retired in 1897.\\n\\nRockefeller founded Standard Oil as an Ohio partnership with his brother William along with Henry Flagler, Jabez A. Bostwick, chemist Samuel Andrews, and a silent partner, Stephen V. Harkness. As kerosene and gasoline grew in importance, Rockefeller\\'s wealth soared and he became the world\\'s richest man and the first American worth more than a billion dollars, controlling 90% of all oil in the United States at his peak. Adjusting for inflation, his fortune upon his death in 1937 stood at $336 billion, accounting for more than 1.5% of the national economy, making him the richest person in US history.\\n\\nRockefeller spent the last 40 years of his life in retirement at his estate, Kykuit, in Westchester County, New York. His fortune was mainly used to create the modern systematic approach of targeted philanthropy. He was able to do this through the creation of foundations that had a major effect on medicine, education and scientific research. His foundations pioneered the development of medical research and were instrumental in the eradication of hookworm and yellow fever.\\n\\nRockefeller was also the founder of both the University of Chicago and Rockefeller University and funded the establishment of Central Philippine University in the Philippines. He was a devoted Northern Baptist and supported many church-based institutions. Rockefeller adhered to total abstinence from alcohol and tobacco throughout his life. He was a faithful congregant of the Erie Street Baptist Mission Church, where he taught Sunday school, and served as a trustee, clerk, and occasional janitor. Religion was a guiding force throughout his life, and Rockefeller believed it to be the source of his success. Rockefeller was also considered a supporter of capitalism based in a perspective of social darwinism, and is often quoted saying \"The growth of a large business is merely a survival of the fittest.\"',\n",
       " 'tfidf-10.txt': 'Nikola Tesla; 10 July 1856 – 7 January 1943) was a Serbian American inventor, electrical engineer, mechanical engineer, physicist, and futurist best known for his contributions to the design of the modern alternating current (AC) electricity supply system.\\n\\nTesla gained experience in telephony and electrical engineering before emigrating to the United States in 1884 to work for Thomas Edison in New York City. He soon struck out on his own with financial backers, setting up laboratories and companies to develop a range of electrical devices. His patented AC induction motor and transformer were licensed by George Westinghouse, who also hired Tesla for a short time as a consultant. His work in the formative years of electric power development was involved in a corporate alternating current/direct current \"War of Currents\" as well as various patent battles.\\n\\nTesla went on to pursue his ideas of wireless lighting and electricity distribution in his high-voltage, high-frequency power experiments in New York and Colorado Springs, and made early (1893) pronouncements on the possibility of wireless communication with his devices. He tried to put these ideas to practical use in his ill-fated attempt at intercontinental wireless transmission, which was his unfinished Wardenclyffe Tower project. In his lab he also conducted a range of experiments with mechanical oscillators/generators, electrical discharge tubes, and early X-ray imaging. He also built a wireless controlled boat, one of the first ever exhibited.\\n\\nTesla was renowned for his achievements and showmanship, eventually earning him a reputation in popular culture as an archetypal \"mad scientist\". His patents earned him a considerable amount of money, much of which was used to finance his own projects with varying degrees of success. He lived most of his life in a series of New York hotels, through his retirement. He died on 7 January 1943. His work fell into relative obscurity after his death, but in 1960 the General Conference on Weights and Measures named the SI unit of magnetic flux density the tesla in his honor. There has been a resurgence in interest in Tesla in popular culture since the 1990s.'}"
      ]
     },
     "execution_count": 3,
     "metadata": {},
     "output_type": "execute_result"
    }
   ],
   "source": [
    "dataset"
   ]
  },
  {
   "cell_type": "markdown",
   "metadata": {},
   "source": [
    "### Define Functions"
   ]
  },
  {
   "cell_type": "code",
   "execution_count": 4,
   "metadata": {},
   "outputs": [],
   "source": [
    "# Calculate term frequencies\n",
    "def tf(dataset, file_name):\n",
    "    text = dataset[file_name]\n",
    "    tokens = nltk.word_tokenize(text)\n",
    "    fd = nltk.FreqDist(tokens)\n",
    "    return fd"
   ]
  },
  {
   "cell_type": "code",
   "execution_count": 5,
   "metadata": {},
   "outputs": [
    {
     "data": {
      "text/plain": [
       "FreqDist({'the': 80, ',': 54, 'and': 46, 'of': 39, '.': 27, 'in': 21, 'war': 12, 'on': 11, 'to': 9, 'United': 9, ...})"
      ]
     },
     "execution_count": 5,
     "metadata": {},
     "output_type": "execute_result"
    }
   ],
   "source": [
    "tf(dataset, \"tfidf-1.txt\")"
   ]
  },
  {
   "cell_type": "code",
   "execution_count": 6,
   "metadata": {},
   "outputs": [],
   "source": [
    "# Calculate inverse document frequency\n",
    "def idf(dataset, term):\n",
    "    count = [term in dataset[file_name] for file_name in dataset]\n",
    "    inv_df = math.log(len(count)/sum(count))\n",
    "    return inv_df"
   ]
  },
  {
   "cell_type": "code",
   "execution_count": 7,
   "metadata": {},
   "outputs": [],
   "source": [
    "def tfidf(dataset, file_name, n):\n",
    "    term_scores = {}\n",
    "    file_fd = tf(dataset,file_name)\n",
    "    for term in file_fd:\n",
    "        if term.isalpha():\n",
    "            idf_val = idf(dataset,term)\n",
    "            tf_val = tf(dataset, file_name)[term]\n",
    "            tfidf = tf_val*idf_val\n",
    "            term_scores[term] = round(tfidf,2)\n",
    "    return sorted(term_scores.items(), key=lambda x:-x[1])[:n]"
   ]
  },
  {
   "cell_type": "markdown",
   "metadata": {},
   "source": [
    "### Run the Code"
   ]
  },
  {
   "cell_type": "code",
   "execution_count": 8,
   "metadata": {},
   "outputs": [
    {
     "data": {
      "text/plain": [
       "[('Soviet', 20.72),\n",
       " ('Union', 18.42),\n",
       " ('Axis', 16.12),\n",
       " ('Japan', 11.27),\n",
       " ('Germany', 11.27),\n",
       " ('Allies', 9.66),\n",
       " ('invasion', 9.66),\n",
       " ('World', 9.21),\n",
       " ('Asia', 9.21),\n",
       " ('Africa', 9.21)]"
      ]
     },
     "execution_count": 8,
     "metadata": {},
     "output_type": "execute_result"
    }
   ],
   "source": [
    "tfidf(dataset, \"tfidf-1.txt\", 10)"
   ]
  },
  {
   "cell_type": "code",
   "execution_count": 9,
   "metadata": {},
   "outputs": [
    {
     "name": "stdout",
     "output_type": "stream",
     "text": [
      "tfidf-1.txt: \n",
      " [('Soviet', 20.72), ('Union', 18.42), ('Axis', 16.12), ('Japan', 11.27), ('Germany', 11.27), ('Allies', 9.66), ('invasion', 9.66), ('World', 9.21), ('Asia', 9.21), ('Africa', 9.21)] \n",
      "\n",
      "tfidf-2.txt: \n",
      " [('Module', 16.12), ('Armstrong', 13.82), ('lunar', 13.82), ('Apollo', 11.51), ('Moon', 9.21), ('Aldrin', 9.21), ('spacecraft', 9.21), ('Earth', 8.05), ('surface', 6.91), ('Lunar', 6.91)] \n",
      "\n",
      "tfidf-3.txt: \n",
      " [('Napoleon', 32.19), ('French', 16.86), ('Coalition', 11.51), ('Prussia', 6.91), ('military', 6.02), ('Revolution', 6.02), ('Battle', 6.02), ('against', 5.5), ('France', 4.85), ('Europe', 4.85)] \n",
      "\n",
      "tfidf-4.txt: \n",
      " [('Washington', 25.33), ('President', 6.44), ('Continental', 4.82), ('presided', 4.61), ('militia', 4.61), ('armies', 4.61), ('generals', 4.61), ('preservation', 4.61), ('opposition', 4.61), ('federal', 4.61)] \n",
      "\n",
      "tfidf-5.txt: \n",
      " [('Newton', 23.03), ('scientists', 6.91), ('motion', 4.83), ('mathematician', 4.61), ('Principia', 4.61), ('mechanics', 4.61), ('calculus', 4.61), ('laws', 4.61), ('mathematical', 4.61), ('Newtonian', 4.61)] \n",
      "\n",
      "tfidf-6.txt: \n",
      " [('Revolution', 21.67), ('French', 15.65), ('privileges', 6.91), ('central', 6.91), ('Napoleon', 6.44), ('global', 4.83), ('leading', 4.83), ('popular', 4.83), ('Directory', 4.83), ('political', 4.82)] \n",
      "\n",
      "tfidf-7.txt: \n",
      " [('Leonardo', 18.42), ('Vinci', 9.21), ('painting', 6.91), ('Piero', 4.61), ('architecture', 4.61), ('anatomy', 4.61), ('inventions', 4.61), ('Renaissance', 4.61), ('personality', 4.61), ('mysterious', 4.61)] \n",
      "\n",
      "tfidf-8.txt: \n",
      " [('Titanic', 18.42), ('passengers', 11.51), ('maritime', 9.21), ('safety', 9.21), ('lifeboats', 9.21), ('aboard', 9.21), ('RMS', 6.91), ('sinking', 6.91), ('crew', 6.91), ('watertight', 6.91)] \n",
      "\n",
      "tfidf-9.txt: \n",
      " [('Rockefeller', 23.03), ('business', 6.91), ('Standard', 6.91), ('Oil', 6.91), ('University', 4.83), ('Company', 4.61), ('industry', 4.61), ('philanthropy', 4.61), ('founded', 4.61), ('richest', 4.61)] \n",
      "\n",
      "tfidf-10.txt: \n",
      " [('Tesla', 13.82), ('electrical', 6.44), ('wireless', 6.44), ('mechanical', 4.61), ('alternating', 4.61), ('AC', 4.61), ('electricity', 4.61), ('range', 4.61), ('devices', 4.61), ('experiments', 4.61)] \n",
      "\n"
     ]
    }
   ],
   "source": [
    "for file_name in dataset:\n",
    "     print(\"{0}: \\n {1} \\n\".format(file_name, tfidf(dataset,file_name,10)))"
   ]
  },
  {
   "cell_type": "code",
   "execution_count": null,
   "metadata": {},
   "outputs": [],
   "source": []
  }
 ],
 "metadata": {
  "kernelspec": {
   "display_name": "Python 3",
   "language": "python",
   "name": "python3"
  },
  "language_info": {
   "codemirror_mode": {
    "name": "ipython",
    "version": 3
   },
   "file_extension": ".py",
   "mimetype": "text/x-python",
   "name": "python",
   "nbconvert_exporter": "python",
   "pygments_lexer": "ipython3",
   "version": "3.6.7"
  }
 },
 "nbformat": 4,
 "nbformat_minor": 2
}
