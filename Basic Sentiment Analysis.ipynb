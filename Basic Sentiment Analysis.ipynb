{
 "cells": [
  {
   "cell_type": "markdown",
   "metadata": {},
   "source": [
    "## Project - Sentiment Analysis on Reviews"
   ]
  },
  {
   "cell_type": "code",
   "execution_count": 1,
   "metadata": {},
   "outputs": [],
   "source": [
    "import nltk\n",
    "import csv\n",
    "import numpy as np"
   ]
  },
  {
   "cell_type": "code",
   "execution_count": 2,
   "metadata": {},
   "outputs": [],
   "source": [
    "negative = []\n",
    "with open(\"words-negative.csv\", \"r\") as file:\n",
    "    reader = csv.reader(file)\n",
    "    for row in reader:\n",
    "        negative.append(row)       "
   ]
  },
  {
   "cell_type": "code",
   "execution_count": 3,
   "metadata": {},
   "outputs": [
    {
     "data": {
      "text/plain": [
       "[['abysmal'],\n",
       " ['adverse'],\n",
       " ['alarming'],\n",
       " ['angry'],\n",
       " ['annoy'],\n",
       " ['annoying'],\n",
       " ['anxious'],\n",
       " ['apathy'],\n",
       " ['appalling'],\n",
       " ['atrocious'],\n",
       " ['awful'],\n",
       " ['bad'],\n",
       " ['banal'],\n",
       " ['barbed'],\n",
       " ['belligerent'],\n",
       " ['bemoan'],\n",
       " ['beneath'],\n",
       " ['boring'],\n",
       " ['broken'],\n",
       " ['callous']]"
      ]
     },
     "execution_count": 3,
     "metadata": {},
     "output_type": "execute_result"
    }
   ],
   "source": [
    "negative[:20]"
   ]
  },
  {
   "cell_type": "code",
   "execution_count": 4,
   "metadata": {},
   "outputs": [],
   "source": [
    "positive = []\n",
    "with open(\"words-positive.csv\", \"r\") as file:\n",
    "    reader = csv.reader(file)\n",
    "    for row in reader:\n",
    "        positive.append(row)       "
   ]
  },
  {
   "cell_type": "code",
   "execution_count": 5,
   "metadata": {},
   "outputs": [
    {
     "data": {
      "text/plain": [
       "[['absolutely'],\n",
       " ['adorable'],\n",
       " ['accepted'],\n",
       " ['acclaimed'],\n",
       " ['accomplish'],\n",
       " ['accomplishment'],\n",
       " ['achievement'],\n",
       " ['action'],\n",
       " ['active'],\n",
       " ['admire'],\n",
       " ['adventure'],\n",
       " ['affirmative'],\n",
       " ['affluent'],\n",
       " ['agree'],\n",
       " ['agreeable'],\n",
       " ['amazing'],\n",
       " ['angelic'],\n",
       " ['appealing'],\n",
       " ['approve'],\n",
       " ['aptitude']]"
      ]
     },
     "execution_count": 5,
     "metadata": {},
     "output_type": "execute_result"
    }
   ],
   "source": [
    "positive[:20]"
   ]
  },
  {
   "cell_type": "code",
   "execution_count": 6,
   "metadata": {},
   "outputs": [],
   "source": [
    "def sentiment(text):\n",
    "    temp = []\n",
    "    text_sent = nltk.sent_tokenize(text)\n",
    "    for sentence in text_sent:\n",
    "        n_count = 0\n",
    "        p_count = 0\n",
    "        sent_words = nltk.word_tokenize(sentence)\n",
    "        for word in sent_words:\n",
    "            for item in positive:\n",
    "                if (word == item[0]):\n",
    "                    p_count = +1\n",
    "            for item in negative:\n",
    "                if (word == item[0]):\n",
    "                    n_count = +1\n",
    "        \n",
    "        if (p_count > 0 and n_count == 0):       # any number of only Positive words\n",
    "            print (\"+ : \" + sentence)\n",
    "        elif (n_count %2 > 0):                   # odd number of negatives   \n",
    "            print (\"- : \" + sentence)              \n",
    "        elif (n_count%2 == 0  and n_count > 0 ):  # even number of negatives  \n",
    "            print (\"+ : \" + sentence)\n",
    "        else:\n",
    "            print (\"? : \" + sentence)\n",
    "    return temp  "
   ]
  },
  {
   "cell_type": "code",
   "execution_count": 7,
   "metadata": {},
   "outputs": [
    {
     "name": "stdout",
     "output_type": "stream",
     "text": [
      "+ : your snow man is beautiful\n"
     ]
    },
    {
     "data": {
      "text/plain": [
       "[]"
      ]
     },
     "execution_count": 7,
     "metadata": {},
     "output_type": "execute_result"
    }
   ],
   "source": [
    "sentiment(\"your snow man is beautiful\")"
   ]
  },
  {
   "cell_type": "code",
   "execution_count": 8,
   "metadata": {},
   "outputs": [
    {
     "name": "stdout",
     "output_type": "stream",
     "text": [
      "- : Movie is worst\n"
     ]
    },
    {
     "data": {
      "text/plain": [
       "[]"
      ]
     },
     "execution_count": 8,
     "metadata": {},
     "output_type": "execute_result"
    }
   ],
   "source": [
    "sentiment(\"Movie is worst\")"
   ]
  },
  {
   "cell_type": "code",
   "execution_count": 9,
   "metadata": {},
   "outputs": [],
   "source": [
    "def sentiment(text):\n",
    "    temp = []\n",
    "    text_sent = nltk.sent_tokenize(text)\n",
    "    for sentence in text_sent:\n",
    "        n_count = 0\n",
    "        p_count = 0\n",
    "        sent_words = nltk.word_tokenize(sentence)\n",
    "        for word in sent_words:\n",
    "            for item in positive:\n",
    "                if (word == item[0]):\n",
    "                    p_count = +1\n",
    "            for item in negative:\n",
    "                if (word == item[0]):\n",
    "                    n_count = +1\n",
    "        \n",
    "        if (p_count > 0 and n_count == 0):       # any number of only Positive words\n",
    "            #print (\"+ : \" + sentence)\n",
    "            temp.append(1)\n",
    "        elif (n_count %2 > 0):                   # odd number of negatives   \n",
    "            #print (\"- : \" + sentence)\n",
    "            temp.append(-1)\n",
    "        elif (n_count%2 == 0  and n_count > 0 ):  # even number of negatives  \n",
    "            #print (\"+ : \" + sentence)\n",
    "            temp.append(1)\n",
    "        else:\n",
    "            #print (\"? : \" + sentence)\n",
    "            temp.append(0)\n",
    "    return temp  "
   ]
  },
  {
   "cell_type": "code",
   "execution_count": 10,
   "metadata": {},
   "outputs": [
    {
     "data": {
      "text/plain": [
       "[1]"
      ]
     },
     "execution_count": 10,
     "metadata": {},
     "output_type": "execute_result"
    }
   ],
   "source": [
    "sentiment(\"car is good\")"
   ]
  },
  {
   "cell_type": "code",
   "execution_count": 11,
   "metadata": {},
   "outputs": [
    {
     "data": {
      "text/plain": [
       "[-1]"
      ]
     },
     "execution_count": 11,
     "metadata": {},
     "output_type": "execute_result"
    }
   ],
   "source": [
    "sentiment(\"car is not good\")"
   ]
  },
  {
   "cell_type": "code",
   "execution_count": 12,
   "metadata": {},
   "outputs": [],
   "source": [
    "myreview = \"I saw this movie the other night. I can say I was not disappointed!. The acting and story line was amazing and kept me on the edge of my seat the entire time.\""
   ]
  },
  {
   "cell_type": "code",
   "execution_count": 13,
   "metadata": {},
   "outputs": [
    {
     "data": {
      "text/plain": [
       "[0, -1, 1]"
      ]
     },
     "execution_count": 13,
     "metadata": {},
     "output_type": "execute_result"
    }
   ],
   "source": [
    "sentiment(myreview)"
   ]
  },
  {
   "cell_type": "code",
   "execution_count": 14,
   "metadata": {},
   "outputs": [],
   "source": [
    "comments = []\n",
    "with open(\"reviews.csv\", \"r\") as file:\n",
    "    reader = csv.reader(file)\n",
    "    for row in reader:\n",
    "        comments.append(row)"
   ]
  },
  {
   "cell_type": "code",
   "execution_count": 15,
   "metadata": {},
   "outputs": [
    {
     "data": {
      "text/plain": [
       "8"
      ]
     },
     "execution_count": 15,
     "metadata": {},
     "output_type": "execute_result"
    }
   ],
   "source": [
    "len(comments)"
   ]
  },
  {
   "cell_type": "code",
   "execution_count": 16,
   "metadata": {},
   "outputs": [
    {
     "data": {
      "text/plain": [
       "[\"This camera is perfect for an enthusiastic amateur photographer. The pictures are razor-sharp, even in macro. It is small enough to fit easily in a coat pocket or purse. It is light enough to carry around all day without bother. Operating its many features is easy and often obvious - i'm no annie lebovitz, but i was able to figure out most of its abilities just messing around with it at a camera store. The manual does a fine job filling in any blanks that remain. The auto-focus performs well, but i love having the 12 optional scene modes - they are dummy-proof, and correspond to many situations in which i would actually seek to use the camera. Comes with a 16 mb compact flash and one rechargeable battery the charging unit, included, is fast and small. I bought a 256 mb cf and a second battery, so it's good to go on a long vacation. I enthusiastically recommend this camera.\"]"
      ]
     },
     "execution_count": 16,
     "metadata": {},
     "output_type": "execute_result"
    }
   ],
   "source": [
    "comments[0]"
   ]
  },
  {
   "cell_type": "code",
   "execution_count": 17,
   "metadata": {},
   "outputs": [
    {
     "data": {
      "text/plain": [
       "[1, 0, 0, 1, -1, 1, 1, 1, 1, 1]"
      ]
     },
     "execution_count": 17,
     "metadata": {},
     "output_type": "execute_result"
    }
   ],
   "source": [
    "sentiment(str(comments[0]))"
   ]
  },
  {
   "cell_type": "code",
   "execution_count": 18,
   "metadata": {},
   "outputs": [
    {
     "data": {
      "text/plain": [
       "0.6"
      ]
     },
     "execution_count": 18,
     "metadata": {},
     "output_type": "execute_result"
    }
   ],
   "source": [
    "np.average(sentiment(str(comments[0])))"
   ]
  },
  {
   "cell_type": "code",
   "execution_count": 19,
   "metadata": {},
   "outputs": [
    {
     "name": "stdout",
     "output_type": "stream",
     "text": [
      "\n",
      "\n",
      "0.6\n",
      "[\"This camera is perfect for an enthusiastic amateur photographer. The pictures are razor-sharp, even in macro. It is small enough to fit easily in a coat pocket or purse. It is light enough to carry around all day without bother. Operating its many features is easy and often obvious - i'm no annie lebovitz, but i was able to figure out most of its abilities just messing around with it at a camera store. The manual does a fine job filling in any blanks that remain. The auto-focus performs well, but i love having the 12 optional scene modes - they are dummy-proof, and correspond to many situations in which i would actually seek to use the camera. Comes with a 16 mb compact flash and one rechargeable battery the charging unit, included, is fast and small. I bought a 256 mb cf and a second battery, so it's good to go on a long vacation. I enthusiastically recommend this camera.\"]\n",
      "\n",
      "\n",
      "0.875\n",
      "[\"I got my camera three days back, and although i had some experience with digital cameras prior to purchasing this one, i still rate myself as a beginner. I bought this camera because it fit my budget and the pre-production and production model reviews were positive. It's easy to use, and yet very feature rich. In the auto mode it functions basically as a point and click, the scene modes are very easy to use and produce good results. The manual mode is feature rich and i can't wait to get the hang of it. The macro mode is exceptional, the pictures are very clear and you can take the pictures with the lens unbelievably close the subject. The battery life is very good, i got about 90 minutes with the lcd turned on all the time, the first time around, and i have been using it with the lcd off every now and then, and have yet needed to recharge it. The camera comes with a lexar 16mb starter card, which stores about 10 images in fine mode at the highest resolution, i intend to buy a bigger card soon.\"]\n",
      "\n",
      "\n",
      "0.6666666666666666\n",
      "['I love photography. I had an older camera that was simply a point and shoot camera. I needed something with more power, so i bought a nikon coolpix 4300. I fell in love with this camera, it combines ease of use, with an immense amount of options and power. You can use the scene modes, or fine tune the options, i. you can change the iso level, shutter speed, etc. This camera is ideal for people who want more power, but donâ€™t want to spend 1000s dollars on a camera. ']\n",
      "\n",
      "\n",
      "0.0\n",
      "[\"I bought coolpix 4300 two months after i had bought canon powershot s400. It was not easy sharing one with my teen age kid. The two cameras are very similar in functionality and pricing. I've had no problem with canon whatsoever. With nikon, although picture qualities are as good as any other 4 mp cameras, i've had the following headaches. Pictures won't transfer to pc directly from the camera using the included transfer cable. I did everything i could, and it took many days of frustration before concluding that the only way to transfer to pc is with the card reader. The speed is noticeably slower than canon, especially so with flashes on. With low battery, it twice wiped out the entire pictures in the memory chip. I used lexar 256 mb and i still use it which means nothing is wrong with lexar. Be very careful when the battery is low and make sure to carry extra batteries. \"]\n",
      "\n",
      "\n",
      "0.14285714285714285\n",
      "['The other reviewers have clearly pointed all the good things about this camera, which i do agree. But there are certain issues might be they are to me here - all of them are minor; not major ones though. This camera keeps on autofocusing in auto mode with a buzzing sound which can\\'t be stopped. Would be really good if they have given an option to stop this autofocusing. If you want to have the date; time on the image, its only through their software \"nikon view\" which reads the images date; time from the images meta-data. So if you use your card reader; copy images - you got to once again open them through their software to put the date; time. In that too, there is not a direct way to add date; time - you got to say\\' print images\\' to a different directory in which there is an option to specify the date; time. Even the slightest of the shakes totally distorts your image. Images taken indoor were not so clear. You got to have flash on to get it even though your room is well lit. Lens cap is a really annoying. The movie clips taken will always have some noise in it, you can\\'t avoid that. But overall this is a good camera with a\\' really good\\' picture clarity; an exceptional close-up shooting capability. I would rate this is 4.5 stars picture quality; image size defined above are specific to nikon coolpix.']\n",
      "\n",
      "\n",
      "-0.5714285714285714\n",
      "[\"Within a year, there are problems with my menu dial knob. It became stuck which makes it almost impossible to switch between modes. I send my camera to nikon for servicing, took them a whole 6 weeks to diagnose the problem. Worse of all, they claim that it's some kind of internal damage and refuse to cover the cost via warranty! They wouldn't repair my camera unless if i pay $100 for parts? and labor! It is a good camera in terms of the function and quality, but take your chance with it because nikon absolutely sucks when it comes to customer service.\"]\n",
      "\n",
      "\n",
      "-0.3333333333333333\n",
      "['Got a \"system error\" problem 30 days after purchase. Made the camera totally inoperable. Also, the lens cap design is flawed. You have to manually Audio on video also lacking. Otherwise, it takes very good pictures; shutter delay is not so bad either. Still, had to send it back to nikon for repair.']\n",
      "\n",
      "\n",
      "0.2727272727272727\n",
      "['I am an amateur photographer and here is a piece of advise to all the folks who are thinking about making a move the digital world. I feel, is the best camera out there for the features and price. I had initially thought of buying a 2 or 3 megapixel camera but these are good for 4x6\" or 5x7\" prints and i wanted some really great 8x10\" photos once in a while. I did not want a very small camera as it seems to get lost in my hands and i was not comfortable with that. I wanted a decent sized camera with a contour for my fingers to hold it steadily. I wanted a camera that had a lot of built-in settings for different types of surroundings while giving me an option to use my photography skills although, I am an amateur with an interest in photography by turning on the manual settings. I wanted a respected brand and had to stay within my budget because i had bought an expensive camcorder before but had not used it much. Depending on all the above requirements, I had narrowed down my search to nikon 4300 and canon powershot s400 models. Nikon got the final nod for its settings auto and manual along with movie modes, medium; compact size, price, brand name, good software that is included and previous reviews. I should say I have been very happy with my decision ever since. The pictures are absolutely amazing - the camera captures the minutest of details.']\n"
     ]
    }
   ],
   "source": [
    "for review in comments:\n",
    "    print(\"\\n\")\n",
    "    print(np.average(sentiment(str(review))))\n",
    "    print(review)    "
   ]
  }
 ],
 "metadata": {
  "kernelspec": {
   "display_name": "Python 3",
   "language": "python",
   "name": "python3"
  },
  "language_info": {
   "codemirror_mode": {
    "name": "ipython",
    "version": 3
   },
   "file_extension": ".py",
   "mimetype": "text/x-python",
   "name": "python",
   "nbconvert_exporter": "python",
   "pygments_lexer": "ipython3",
   "version": "3.6.7"
  }
 },
 "nbformat": 4,
 "nbformat_minor": 2
}
